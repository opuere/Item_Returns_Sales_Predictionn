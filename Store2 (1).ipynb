{
 "cells": [
  {
   "cell_type": "raw",
   "id": "08b6bb50-d109-43fa-b702-b389064c5cf5",
   "metadata": {},
   "source": [
    "# Importing the neccessary libariries"
   ]
  },
  {
   "cell_type": "code",
   "execution_count": 1,
   "id": "9dfa20c5-9b69-43a9-a16f-0759a53c36c8",
   "metadata": {},
   "outputs": [],
   "source": [
    "import pandas as pd\n",
    "import numpy as np\n",
    "import matplotlib.pyplot as plt\n",
    "%matplotlib inline\n",
    "import seaborn as sns\n",
    "import warnings"
   ]
  },
  {
   "cell_type": "code",
   "execution_count": 2,
   "id": "fb33e2e2-03f0-4c87-8d40-fd9b9519a734",
   "metadata": {},
   "outputs": [],
   "source": [
    "warnings.filterwarnings(\"ignore\")"
   ]
  },
  {
   "cell_type": "code",
   "execution_count": 3,
   "id": "fb33533c-1be3-433a-8184-aac284f2bbaf",
   "metadata": {},
   "outputs": [],
   "source": [
    "train=pd.read_csv(\"train.csv\")\n",
    "test=pd.read_csv(\"test.csv\")\n",
    "SampleSubmission=pd.read_csv(\"SampleSubmission.csv\")"
   ]
  },
  {
   "cell_type": "code",
   "execution_count": 4,
   "id": "1e952920-ff12-48b7-916b-3afca6864918",
   "metadata": {},
   "outputs": [
    {
     "data": {
      "text/plain": [
       "(3532, 2)"
      ]
     },
     "execution_count": 4,
     "metadata": {},
     "output_type": "execute_result"
    }
   ],
   "source": [
    "SampleSubmission.shape"
   ]
  },
  {
   "cell_type": "code",
   "execution_count": 5,
   "id": "b679044f-fed2-4aeb-9a78-f2764cc9c3f5",
   "metadata": {},
   "outputs": [
    {
     "data": {
      "text/html": [
       "<div>\n",
       "<style scoped>\n",
       "    .dataframe tbody tr th:only-of-type {\n",
       "        vertical-align: middle;\n",
       "    }\n",
       "\n",
       "    .dataframe tbody tr th {\n",
       "        vertical-align: top;\n",
       "    }\n",
       "\n",
       "    .dataframe thead th {\n",
       "        text-align: right;\n",
       "    }\n",
       "</style>\n",
       "<table border=\"1\" class=\"dataframe\">\n",
       "  <thead>\n",
       "    <tr style=\"text-align: right;\">\n",
       "      <th></th>\n",
       "      <th>Item_ID</th>\n",
       "      <th>Store_ID</th>\n",
       "      <th>Item_Store_ID</th>\n",
       "      <th>Item_Weight</th>\n",
       "      <th>Item_Sugar_Content</th>\n",
       "      <th>Item_Visibility</th>\n",
       "      <th>Item_Type</th>\n",
       "      <th>Item_Price</th>\n",
       "      <th>Store_Start_Year</th>\n",
       "      <th>Store_Size</th>\n",
       "      <th>Store_Location_Type</th>\n",
       "      <th>Store_Type</th>\n",
       "      <th>Item_Store_Returns</th>\n",
       "    </tr>\n",
       "  </thead>\n",
       "  <tbody>\n",
       "    <tr>\n",
       "      <th>0</th>\n",
       "      <td>False</td>\n",
       "      <td>False</td>\n",
       "      <td>False</td>\n",
       "      <td>False</td>\n",
       "      <td>False</td>\n",
       "      <td>False</td>\n",
       "      <td>False</td>\n",
       "      <td>False</td>\n",
       "      <td>False</td>\n",
       "      <td>True</td>\n",
       "      <td>False</td>\n",
       "      <td>False</td>\n",
       "      <td>False</td>\n",
       "    </tr>\n",
       "    <tr>\n",
       "      <th>1</th>\n",
       "      <td>False</td>\n",
       "      <td>False</td>\n",
       "      <td>False</td>\n",
       "      <td>False</td>\n",
       "      <td>False</td>\n",
       "      <td>False</td>\n",
       "      <td>False</td>\n",
       "      <td>False</td>\n",
       "      <td>False</td>\n",
       "      <td>False</td>\n",
       "      <td>False</td>\n",
       "      <td>False</td>\n",
       "      <td>False</td>\n",
       "    </tr>\n",
       "    <tr>\n",
       "      <th>2</th>\n",
       "      <td>False</td>\n",
       "      <td>False</td>\n",
       "      <td>False</td>\n",
       "      <td>False</td>\n",
       "      <td>False</td>\n",
       "      <td>False</td>\n",
       "      <td>False</td>\n",
       "      <td>False</td>\n",
       "      <td>False</td>\n",
       "      <td>True</td>\n",
       "      <td>False</td>\n",
       "      <td>False</td>\n",
       "      <td>False</td>\n",
       "    </tr>\n",
       "    <tr>\n",
       "      <th>3</th>\n",
       "      <td>False</td>\n",
       "      <td>False</td>\n",
       "      <td>False</td>\n",
       "      <td>False</td>\n",
       "      <td>False</td>\n",
       "      <td>False</td>\n",
       "      <td>False</td>\n",
       "      <td>False</td>\n",
       "      <td>False</td>\n",
       "      <td>False</td>\n",
       "      <td>False</td>\n",
       "      <td>False</td>\n",
       "      <td>False</td>\n",
       "    </tr>\n",
       "    <tr>\n",
       "      <th>4</th>\n",
       "      <td>False</td>\n",
       "      <td>False</td>\n",
       "      <td>False</td>\n",
       "      <td>False</td>\n",
       "      <td>False</td>\n",
       "      <td>False</td>\n",
       "      <td>False</td>\n",
       "      <td>False</td>\n",
       "      <td>False</td>\n",
       "      <td>False</td>\n",
       "      <td>False</td>\n",
       "      <td>False</td>\n",
       "      <td>False</td>\n",
       "    </tr>\n",
       "    <tr>\n",
       "      <th>...</th>\n",
       "      <td>...</td>\n",
       "      <td>...</td>\n",
       "      <td>...</td>\n",
       "      <td>...</td>\n",
       "      <td>...</td>\n",
       "      <td>...</td>\n",
       "      <td>...</td>\n",
       "      <td>...</td>\n",
       "      <td>...</td>\n",
       "      <td>...</td>\n",
       "      <td>...</td>\n",
       "      <td>...</td>\n",
       "      <td>...</td>\n",
       "    </tr>\n",
       "    <tr>\n",
       "      <th>4985</th>\n",
       "      <td>False</td>\n",
       "      <td>False</td>\n",
       "      <td>False</td>\n",
       "      <td>True</td>\n",
       "      <td>False</td>\n",
       "      <td>False</td>\n",
       "      <td>False</td>\n",
       "      <td>False</td>\n",
       "      <td>False</td>\n",
       "      <td>False</td>\n",
       "      <td>False</td>\n",
       "      <td>False</td>\n",
       "      <td>False</td>\n",
       "    </tr>\n",
       "    <tr>\n",
       "      <th>4986</th>\n",
       "      <td>False</td>\n",
       "      <td>False</td>\n",
       "      <td>False</td>\n",
       "      <td>True</td>\n",
       "      <td>False</td>\n",
       "      <td>False</td>\n",
       "      <td>False</td>\n",
       "      <td>False</td>\n",
       "      <td>False</td>\n",
       "      <td>False</td>\n",
       "      <td>False</td>\n",
       "      <td>False</td>\n",
       "      <td>False</td>\n",
       "    </tr>\n",
       "    <tr>\n",
       "      <th>4987</th>\n",
       "      <td>False</td>\n",
       "      <td>False</td>\n",
       "      <td>False</td>\n",
       "      <td>False</td>\n",
       "      <td>False</td>\n",
       "      <td>False</td>\n",
       "      <td>False</td>\n",
       "      <td>False</td>\n",
       "      <td>False</td>\n",
       "      <td>True</td>\n",
       "      <td>False</td>\n",
       "      <td>False</td>\n",
       "      <td>False</td>\n",
       "    </tr>\n",
       "    <tr>\n",
       "      <th>4988</th>\n",
       "      <td>False</td>\n",
       "      <td>False</td>\n",
       "      <td>False</td>\n",
       "      <td>False</td>\n",
       "      <td>False</td>\n",
       "      <td>False</td>\n",
       "      <td>False</td>\n",
       "      <td>False</td>\n",
       "      <td>False</td>\n",
       "      <td>False</td>\n",
       "      <td>False</td>\n",
       "      <td>False</td>\n",
       "      <td>False</td>\n",
       "    </tr>\n",
       "    <tr>\n",
       "      <th>4989</th>\n",
       "      <td>False</td>\n",
       "      <td>False</td>\n",
       "      <td>False</td>\n",
       "      <td>False</td>\n",
       "      <td>False</td>\n",
       "      <td>False</td>\n",
       "      <td>False</td>\n",
       "      <td>False</td>\n",
       "      <td>False</td>\n",
       "      <td>False</td>\n",
       "      <td>False</td>\n",
       "      <td>False</td>\n",
       "      <td>False</td>\n",
       "    </tr>\n",
       "  </tbody>\n",
       "</table>\n",
       "<p>4990 rows × 13 columns</p>\n",
       "</div>"
      ],
      "text/plain": [
       "      Item_ID  Store_ID  Item_Store_ID  Item_Weight  Item_Sugar_Content  \\\n",
       "0       False     False          False        False               False   \n",
       "1       False     False          False        False               False   \n",
       "2       False     False          False        False               False   \n",
       "3       False     False          False        False               False   \n",
       "4       False     False          False        False               False   \n",
       "...       ...       ...            ...          ...                 ...   \n",
       "4985    False     False          False         True               False   \n",
       "4986    False     False          False         True               False   \n",
       "4987    False     False          False        False               False   \n",
       "4988    False     False          False        False               False   \n",
       "4989    False     False          False        False               False   \n",
       "\n",
       "      Item_Visibility  Item_Type  Item_Price  Store_Start_Year  Store_Size  \\\n",
       "0               False      False       False             False        True   \n",
       "1               False      False       False             False       False   \n",
       "2               False      False       False             False        True   \n",
       "3               False      False       False             False       False   \n",
       "4               False      False       False             False       False   \n",
       "...               ...        ...         ...               ...         ...   \n",
       "4985            False      False       False             False       False   \n",
       "4986            False      False       False             False       False   \n",
       "4987            False      False       False             False        True   \n",
       "4988            False      False       False             False       False   \n",
       "4989            False      False       False             False       False   \n",
       "\n",
       "      Store_Location_Type  Store_Type  Item_Store_Returns  \n",
       "0                   False       False               False  \n",
       "1                   False       False               False  \n",
       "2                   False       False               False  \n",
       "3                   False       False               False  \n",
       "4                   False       False               False  \n",
       "...                   ...         ...                 ...  \n",
       "4985                False       False               False  \n",
       "4986                False       False               False  \n",
       "4987                False       False               False  \n",
       "4988                False       False               False  \n",
       "4989                False       False               False  \n",
       "\n",
       "[4990 rows x 13 columns]"
      ]
     },
     "execution_count": 5,
     "metadata": {},
     "output_type": "execute_result"
    }
   ],
   "source": [
    "train.isnull()"
   ]
  },
  {
   "cell_type": "code",
   "execution_count": 6,
   "id": "64cd1c57-ab54-470c-9291-07a0483195f2",
   "metadata": {},
   "outputs": [
    {
     "data": {
      "text/plain": [
       "Item_ID                   0\n",
       "Store_ID                  0\n",
       "Item_Store_ID             0\n",
       "Item_Weight             802\n",
       "Item_Sugar_Content        0\n",
       "Item_Visibility           0\n",
       "Item_Type                 0\n",
       "Item_Price                0\n",
       "Store_Start_Year          0\n",
       "Store_Size             1450\n",
       "Store_Location_Type       0\n",
       "Store_Type                0\n",
       "Item_Store_Returns        0\n",
       "dtype: int64"
      ]
     },
     "execution_count": 6,
     "metadata": {},
     "output_type": "execute_result"
    }
   ],
   "source": [
    "train.isnull().sum()"
   ]
  },
  {
   "cell_type": "code",
   "execution_count": 7,
   "id": "6ece405c-8da5-4ca3-acda-c4fe71e982d8",
   "metadata": {},
   "outputs": [
    {
     "data": {
      "text/plain": [
       "Item_ID                 0.000000\n",
       "Store_ID                0.000000\n",
       "Item_Store_ID           0.000000\n",
       "Item_Weight            16.072144\n",
       "Item_Sugar_Content      0.000000\n",
       "Item_Visibility         0.000000\n",
       "Item_Type               0.000000\n",
       "Item_Price              0.000000\n",
       "Store_Start_Year        0.000000\n",
       "Store_Size             29.058116\n",
       "Store_Location_Type     0.000000\n",
       "Store_Type              0.000000\n",
       "Item_Store_Returns      0.000000\n",
       "dtype: float64"
      ]
     },
     "execution_count": 7,
     "metadata": {},
     "output_type": "execute_result"
    }
   ],
   "source": [
    "per_missing_val = train.isnull().sum()* 100 / len(train)\n",
    "per_missing_val"
   ]
  },
  {
   "cell_type": "code",
   "execution_count": 8,
   "id": "fca70e01-79ac-4e21-805a-1ae8bca8ff31",
   "metadata": {},
   "outputs": [
    {
     "data": {
      "text/plain": [
       "False"
      ]
     },
     "execution_count": 8,
     "metadata": {},
     "output_type": "execute_result"
    }
   ],
   "source": [
    "train.duplicated().any()"
   ]
  },
  {
   "cell_type": "code",
   "execution_count": 9,
   "id": "e701c5f2-f4d5-4ed2-8a0d-1a623866d8ef",
   "metadata": {},
   "outputs": [
    {
     "data": {
      "text/plain": [
       "0       11.60\n",
       "1       11.60\n",
       "2       11.60\n",
       "3       11.60\n",
       "4       11.60\n",
       "        ...  \n",
       "4985      NaN\n",
       "4986      NaN\n",
       "4987    14.65\n",
       "4988    14.65\n",
       "4989    14.65\n",
       "Name: Item_Weight, Length: 4990, dtype: float64"
      ]
     },
     "execution_count": 9,
     "metadata": {},
     "output_type": "execute_result"
    }
   ],
   "source": [
    "train['Item_Weight']"
   ]
  },
  {
   "cell_type": "code",
   "execution_count": 10,
   "id": "ab0a1a4f-a245-4ef9-b79c-af21b4901965",
   "metadata": {},
   "outputs": [],
   "source": [
    "mean_weight = train['Item_Weight'].mean()\n",
    "median_weight =train['Item_Weight'].median()"
   ]
  },
  {
   "cell_type": "code",
   "execution_count": 11,
   "id": "a22db9a5-cbef-4654-ba1e-2d9eac0669e7",
   "metadata": {},
   "outputs": [
    {
     "name": "stdout",
     "output_type": "stream",
     "text": [
      "12.90883834765998\n",
      "12.6\n"
     ]
    }
   ],
   "source": [
    "print(mean_weight)\n",
    "print(median_weight)"
   ]
  },
  {
   "cell_type": "code",
   "execution_count": 12,
   "id": "98125525-8add-46de-963f-1d75a734d962",
   "metadata": {},
   "outputs": [],
   "source": [
    "train['Item_Weight_mean'] =train['Item_Weight'].fillna(mean_weight)\n",
    "train['Item_Weight_median'] = train['Item_Weight'].fillna(median_weight)"
   ]
  },
  {
   "cell_type": "code",
   "execution_count": 13,
   "id": "a893185f-087a-4084-8e15-e30d6ee40170",
   "metadata": {},
   "outputs": [
    {
     "data": {
      "text/html": [
       "<div>\n",
       "<style scoped>\n",
       "    .dataframe tbody tr th:only-of-type {\n",
       "        vertical-align: middle;\n",
       "    }\n",
       "\n",
       "    .dataframe tbody tr th {\n",
       "        vertical-align: top;\n",
       "    }\n",
       "\n",
       "    .dataframe thead th {\n",
       "        text-align: right;\n",
       "    }\n",
       "</style>\n",
       "<table border=\"1\" class=\"dataframe\">\n",
       "  <thead>\n",
       "    <tr style=\"text-align: right;\">\n",
       "      <th></th>\n",
       "      <th>Item_ID</th>\n",
       "      <th>Store_ID</th>\n",
       "      <th>Item_Store_ID</th>\n",
       "      <th>Item_Weight</th>\n",
       "      <th>Item_Sugar_Content</th>\n",
       "      <th>Item_Visibility</th>\n",
       "      <th>Item_Type</th>\n",
       "      <th>Item_Price</th>\n",
       "      <th>Store_Start_Year</th>\n",
       "      <th>Store_Size</th>\n",
       "      <th>Store_Location_Type</th>\n",
       "      <th>Store_Type</th>\n",
       "      <th>Item_Store_Returns</th>\n",
       "      <th>Item_Weight_mean</th>\n",
       "      <th>Item_Weight_median</th>\n",
       "    </tr>\n",
       "  </thead>\n",
       "  <tbody>\n",
       "    <tr>\n",
       "      <th>4528</th>\n",
       "      <td>NCN55</td>\n",
       "      <td>BABATUNJI045</td>\n",
       "      <td>NCN55_BABATUNJI045</td>\n",
       "      <td>14.6</td>\n",
       "      <td>Low Sugar</td>\n",
       "      <td>0.059611</td>\n",
       "      <td>Others</td>\n",
       "      <td>595.88</td>\n",
       "      <td>2009</td>\n",
       "      <td>NaN</td>\n",
       "      <td>Cluster 2</td>\n",
       "      <td>Supermarket Type1</td>\n",
       "      <td>5407.96</td>\n",
       "      <td>14.6</td>\n",
       "      <td>14.6</td>\n",
       "    </tr>\n",
       "    <tr>\n",
       "      <th>4056</th>\n",
       "      <td>NCB07</td>\n",
       "      <td>BABATUNJI049</td>\n",
       "      <td>NCB07_BABATUNJI049</td>\n",
       "      <td>19.2</td>\n",
       "      <td>Low Sugar</td>\n",
       "      <td>0.077628</td>\n",
       "      <td>Household</td>\n",
       "      <td>494.03</td>\n",
       "      <td>2006</td>\n",
       "      <td>Medium</td>\n",
       "      <td>Cluster 1</td>\n",
       "      <td>Supermarket Type1</td>\n",
       "      <td>7856.44</td>\n",
       "      <td>19.2</td>\n",
       "      <td>19.2</td>\n",
       "    </tr>\n",
       "    <tr>\n",
       "      <th>4505</th>\n",
       "      <td>NCN29</td>\n",
       "      <td>BABATUNJI010</td>\n",
       "      <td>NCN29_BABATUNJI010</td>\n",
       "      <td>15.2</td>\n",
       "      <td>Low Sugar</td>\n",
       "      <td>0.020280</td>\n",
       "      <td>Health and Hygiene</td>\n",
       "      <td>122.76</td>\n",
       "      <td>2005</td>\n",
       "      <td>NaN</td>\n",
       "      <td>Cluster 3</td>\n",
       "      <td>Grocery Store</td>\n",
       "      <td>486.03</td>\n",
       "      <td>15.2</td>\n",
       "      <td>15.2</td>\n",
       "    </tr>\n",
       "    <tr>\n",
       "      <th>3712</th>\n",
       "      <td>FDY10</td>\n",
       "      <td>BABATUNJI017</td>\n",
       "      <td>FDY10_BABATUNJI017</td>\n",
       "      <td>17.6</td>\n",
       "      <td>Low Sugar</td>\n",
       "      <td>0.049345</td>\n",
       "      <td>Snack Foods</td>\n",
       "      <td>288.54</td>\n",
       "      <td>2014</td>\n",
       "      <td>NaN</td>\n",
       "      <td>Cluster 2</td>\n",
       "      <td>Supermarket Type1</td>\n",
       "      <td>2862.94</td>\n",
       "      <td>17.6</td>\n",
       "      <td>17.6</td>\n",
       "    </tr>\n",
       "    <tr>\n",
       "      <th>275</th>\n",
       "      <td>DRI47</td>\n",
       "      <td>BABATUNJI046</td>\n",
       "      <td>DRI47_BABATUNJI046</td>\n",
       "      <td>14.7</td>\n",
       "      <td>Low Sugar</td>\n",
       "      <td>0.020920</td>\n",
       "      <td>Hard Drinks</td>\n",
       "      <td>359.53</td>\n",
       "      <td>2004</td>\n",
       "      <td>Small</td>\n",
       "      <td>Cluster 1</td>\n",
       "      <td>Supermarket Type1</td>\n",
       "      <td>7550.17</td>\n",
       "      <td>14.7</td>\n",
       "      <td>14.7</td>\n",
       "    </tr>\n",
       "  </tbody>\n",
       "</table>\n",
       "</div>"
      ],
      "text/plain": [
       "     Item_ID      Store_ID       Item_Store_ID  Item_Weight  \\\n",
       "4528   NCN55  BABATUNJI045  NCN55_BABATUNJI045         14.6   \n",
       "4056   NCB07  BABATUNJI049  NCB07_BABATUNJI049         19.2   \n",
       "4505   NCN29  BABATUNJI010  NCN29_BABATUNJI010         15.2   \n",
       "3712   FDY10  BABATUNJI017  FDY10_BABATUNJI017         17.6   \n",
       "275    DRI47  BABATUNJI046  DRI47_BABATUNJI046         14.7   \n",
       "\n",
       "     Item_Sugar_Content  Item_Visibility           Item_Type  Item_Price  \\\n",
       "4528          Low Sugar         0.059611              Others      595.88   \n",
       "4056          Low Sugar         0.077628           Household      494.03   \n",
       "4505          Low Sugar         0.020280  Health and Hygiene      122.76   \n",
       "3712          Low Sugar         0.049345         Snack Foods      288.54   \n",
       "275           Low Sugar         0.020920         Hard Drinks      359.53   \n",
       "\n",
       "      Store_Start_Year Store_Size Store_Location_Type         Store_Type  \\\n",
       "4528              2009        NaN           Cluster 2  Supermarket Type1   \n",
       "4056              2006     Medium           Cluster 1  Supermarket Type1   \n",
       "4505              2005        NaN           Cluster 3      Grocery Store   \n",
       "3712              2014        NaN           Cluster 2  Supermarket Type1   \n",
       "275               2004      Small           Cluster 1  Supermarket Type1   \n",
       "\n",
       "      Item_Store_Returns  Item_Weight_mean  Item_Weight_median  \n",
       "4528             5407.96              14.6                14.6  \n",
       "4056             7856.44              19.2                19.2  \n",
       "4505              486.03              15.2                15.2  \n",
       "3712             2862.94              17.6                17.6  \n",
       "275              7550.17              14.7                14.7  "
      ]
     },
     "execution_count": 13,
     "metadata": {},
     "output_type": "execute_result"
    }
   ],
   "source": [
    "train.sample(5)"
   ]
  },
  {
   "cell_type": "code",
   "execution_count": 14,
   "id": "a256ffb3-89ef-42e6-8eff-d2e90ed83cbe",
   "metadata": {},
   "outputs": [
    {
     "data": {
      "text/plain": [
       "22.120615052200215"
      ]
     },
     "execution_count": 14,
     "metadata": {},
     "output_type": "execute_result"
    }
   ],
   "source": [
    "train['Item_Weight'].var()"
   ]
  },
  {
   "cell_type": "code",
   "execution_count": 15,
   "id": "2cf694d7-7591-4b16-adb7-b852f28873f8",
   "metadata": {},
   "outputs": [
    {
     "data": {
      "text/plain": [
       "18.564645264293503"
      ]
     },
     "execution_count": 15,
     "metadata": {},
     "output_type": "execute_result"
    }
   ],
   "source": [
    "train['Item_Weight_mean'].var()"
   ]
  },
  {
   "cell_type": "code",
   "execution_count": 16,
   "id": "a7b0bd1a-8617-4a74-9799-18fbc8574888",
   "metadata": {},
   "outputs": [
    {
     "data": {
      "text/plain": [
       "18.57751380889722"
      ]
     },
     "execution_count": 16,
     "metadata": {},
     "output_type": "execute_result"
    }
   ],
   "source": [
    "train['Item_Weight_median'].var()"
   ]
  },
  {
   "cell_type": "code",
   "execution_count": 17,
   "id": "fd31e26c-956f-43f2-87d4-1dcddff1975b",
   "metadata": {},
   "outputs": [
    {
     "data": {
      "text/plain": [
       "<bound method NDFrame.interpolate of 0       11.60\n",
       "1       11.60\n",
       "2       11.60\n",
       "3       11.60\n",
       "4       11.60\n",
       "        ...  \n",
       "4985      NaN\n",
       "4986      NaN\n",
       "4987    14.65\n",
       "4988    14.65\n",
       "4989    14.65\n",
       "Name: Item_Weight, Length: 4990, dtype: float64>"
      ]
     },
     "execution_count": 17,
     "metadata": {},
     "output_type": "execute_result"
    }
   ],
   "source": [
    "train['Item_Weight'].interpolate"
   ]
  },
  {
   "cell_type": "code",
   "execution_count": 18,
   "id": "310c1a01-0d05-4ac0-bf19-32f322347f70",
   "metadata": {},
   "outputs": [
    {
     "data": {
      "image/png": "[encoded data removed]",
      "text/plain": [
       "<Figure size 640x480 with 1 Axes>"
      ]
     },
     "metadata": {},
     "output_type": "display_data"
    }
   ],
   "source": [
    "train[['Item_Weight','Item_Weight_median','Item_Weight_mean']].boxplot()\n",
    "plt.legend()\n",
    "plt.show()\n"
   ]
  },
  {
   "cell_type": "code",
   "execution_count": 19,
   "id": "39e578e0-33c2-4fef-9b17-2c8b5250d81f",
   "metadata": {},
   "outputs": [],
   "source": [
    "train['Item_Weight_interpolate'] = train['Item_Weight'].interpolate(method=\"linear\")"
   ]
  },
  {
   "cell_type": "code",
   "execution_count": 20,
   "id": "c74bd8b3-9619-492e-a49c-fa2474376e6f",
   "metadata": {},
   "outputs": [
    {
     "data": {
      "image/png": "[encoded data removed]",
      "text/plain": [
       "<Figure size 640x480 with 1 Axes>"
      ]
     },
     "metadata": {},
     "output_type": "display_data"
    }
   ],
   "source": [
    "train['Item_Weight'].plot(kind = 'kde', label ='Original')\n",
    "train['Item_Weight_interpolate'].plot(kind = 'kde', label ='interpolate')\n",
    "plt.legend()\n",
    "plt.show()"
   ]
  },
  {
   "cell_type": "code",
   "execution_count": 21,
   "id": "b69365a0-6243-4839-a9cb-a5c678762b90",
   "metadata": {},
   "outputs": [],
   "source": [
    "from sklearn.impute import KNNImputer"
   ]
  },
  {
   "cell_type": "code",
   "execution_count": 22,
   "id": "4300825e-e81c-4060-8dfc-1c9c0ccf318b",
   "metadata": {},
   "outputs": [],
   "source": [
    "knn = KNNImputer(n_neighbors= 10, weights = \"distance\")"
   ]
  },
  {
   "cell_type": "code",
   "execution_count": 23,
   "id": "cf5fa6cf-c7dc-4fca-9f93-5cd1a72012bf",
   "metadata": {},
   "outputs": [],
   "source": [
    "#train['knn_imputer']= knn.fit_transform(train(['Item_Weight'])).ravel()"
   ]
  },
  {
   "cell_type": "code",
   "execution_count": 24,
   "id": "d8edead6-e06d-4432-96f0-d3987fa15186",
   "metadata": {},
   "outputs": [],
   "source": [
    "train=train.drop(['Item_Weight_median','Item_Weight_mean'],axis=1)"
   ]
  },
  {
   "cell_type": "code",
   "execution_count": 26,
   "id": "ebd8ceed-8040-49e5-8836-529f36f99e5a",
   "metadata": {},
   "outputs": [],
   "source": [
    "#median_Weight = train['Item_Weight'].median()[0]"
   ]
  },
  {
   "cell_type": "code",
   "execution_count": null,
   "id": "9c17a8e8-e942-473e-989c-c6892178451f",
   "metadata": {},
   "outputs": [],
   "source": [
    "train['Item_Weight'].fillna(median_Weight, inplace=True)\n",
    "test['Item_Weight'].fillna(median_Weight, inplace=True)"
   ]
  },
  {
   "cell_type": "code",
   "execution_count": null,
   "id": "2ec24fa9-0e67-4670-892f-9c84ae440ed6",
   "metadata": {},
   "outputs": [],
   "source": [
    "train.head()"
   ]
  },
  {
   "cell_type": "code",
   "execution_count": null,
   "id": "69b46ff6-813d-4f94-9565-510cb9cb96cb",
   "metadata": {
    "scrolled": true
   },
   "outputs": [],
   "source": [
    "train.isnull().sum()"
   ]
  },
  {
   "cell_type": "code",
   "execution_count": null,
   "id": "2f43285f-b821-42b0-b0e3-ca0230393131",
   "metadata": {},
   "outputs": [],
   "source": [
    "train['Store_Size'].value_counts()"
   ]
  },
  {
   "cell_type": "code",
   "execution_count": null,
   "id": "9eeeaa83-f99a-48bd-8f9e-7c58970b2cb4",
   "metadata": {},
   "outputs": [],
   "source": [
    "train['Store_Type'].value_counts()"
   ]
  },
  {
   "cell_type": "code",
   "execution_count": null,
   "id": "90c33de7-3b3c-418e-9833-0751b4565e4b",
   "metadata": {},
   "outputs": [],
   "source": [
    "#train.pivot_table(values='Store_Size',columns='Store_Type',aggfunc=(lambda x:x.mode()[0]))"
   ]
  },
  {
   "cell_type": "code",
   "execution_count": null,
   "id": "a5a122de-f2f3-4cca-88b1-482b6e49e997",
   "metadata": {},
   "outputs": [],
   "source": [
    "#mode_Store = train.pivot_table(values='Store_Size',columns='Store_Type',aggfunc=(lambda x:x.mode()[0]))"
   ]
  },
  {
   "cell_type": "code",
   "execution_count": null,
   "id": "41627c39-b59d-471a-ab6f-2b35d6664248",
   "metadata": {},
   "outputs": [],
   "source": [
    "#mode_Store"
   ]
  },
  {
   "cell_type": "code",
   "execution_count": null,
   "id": "1df704ac-0514-4088-86c3-f136a30971d0",
   "metadata": {},
   "outputs": [],
   "source": [
    "common_size = train['Store_Size'].mode()[0]"
   ]
  },
  {
   "cell_type": "code",
   "execution_count": null,
   "id": "322faf83-e244-4817-bb93-bc2462cedce7",
   "metadata": {},
   "outputs": [],
   "source": [
    "train['Store_Size'].fillna(common_size, inplace=True)\n",
    "test['Store_Size'].fillna(common_size, inplace=True)\n"
   ]
  },
  {
   "cell_type": "code",
   "execution_count": null,
   "id": "85b90a50-ce52-48aa-97ba-ed6d86e48329",
   "metadata": {},
   "outputs": [],
   "source": [
    "missing_values = train['Store_Size'].isnull() \n",
    "missing_values"
   ]
  },
  {
   "cell_type": "code",
   "execution_count": null,
   "id": "e1635867-2768-42cf-ab96-074a16f3dfd5",
   "metadata": {},
   "outputs": [],
   "source": [
    "train.isnull().sum() "
   ]
  },
  {
   "cell_type": "code",
   "execution_count": null,
   "id": "f7c1ff51-015c-4be4-ab10-9db298b77a69",
   "metadata": {},
   "outputs": [],
   "source": [
    "train.columns"
   ]
  },
  {
   "cell_type": "code",
   "execution_count": null,
   "id": "76422d8a-8908-4c22-9deb-ca0786bfd64e",
   "metadata": {},
   "outputs": [],
   "source": [
    "train['Item_Sugar_Content'].value_counts()"
   ]
  },
  {
   "cell_type": "code",
   "execution_count": null,
   "id": "42942046-1789-4056-b7dd-f9ecbe60d875",
   "metadata": {},
   "outputs": [],
   "source": [
    "train['Item_Visibility'].value_counts()"
   ]
  },
  {
   "cell_type": "code",
   "execution_count": null,
   "id": "bec40e30-d029-4c6f-b0cd-b6f23cd8440f",
   "metadata": {},
   "outputs": [],
   "source": [
    "train['Item_Visibility'].replace(0,np.nan).interpolate(method ='linear')"
   ]
  },
  {
   "cell_type": "code",
   "execution_count": null,
   "id": "faee57e1-98a9-42df-8412-89ad6521b200",
   "metadata": {},
   "outputs": [],
   "source": [
    "train['Item_Visibility_interpolate'] = train['Item_Visibility'].replace(0,np.nan).interpolate(method ='linear')"
   ]
  },
  {
   "cell_type": "code",
   "execution_count": null,
   "id": "16ea25b1-575a-4b6a-95fc-affc7aa9af22",
   "metadata": {},
   "outputs": [],
   "source": [
    "train.head(1)"
   ]
  },
  {
   "cell_type": "code",
   "execution_count": null,
   "id": "22bc1104-8506-4f96-a5d0-d98de4c07fab",
   "metadata": {},
   "outputs": [],
   "source": [
    "train['Item_Visibility_interpolate'].value_counts()"
   ]
  },
  {
   "cell_type": "code",
   "execution_count": null,
   "id": "1bd09c5c-8f74-4877-86b8-10e827144b9d",
   "metadata": {},
   "outputs": [],
   "source": [
    "train['Item_Visibility'].plot(kind = 'kde', label ='Original')\n",
    "train['Item_Visibility_interpolate'].plot(kind = 'kde',color = 'green', label ='Interpolate')\n",
    "plt.legend()\n",
    "plt.show()"
   ]
  },
  {
   "cell_type": "code",
   "execution_count": null,
   "id": "e61e87b5-4803-4bac-9e60-36254b007df3",
   "metadata": {},
   "outputs": [],
   "source": [
    "train=train.drop(['Item_Visibility'],axis=1)"
   ]
  },
  {
   "cell_type": "code",
   "execution_count": null,
   "id": "7d44b109-da0e-47b2-815d-3978ba4963aa",
   "metadata": {},
   "outputs": [],
   "source": [
    "train.head(1)"
   ]
  },
  {
   "cell_type": "code",
   "execution_count": null,
   "id": "453264ff-618a-4d0e-8fa5-d1e27ba21887",
   "metadata": {},
   "outputs": [],
   "source": [
    "train['Item_Type'].value_counts()"
   ]
  },
  {
   "cell_type": "code",
   "execution_count": null,
   "id": "8080c18e-6c4d-43d1-967b-3d5c34348cc4",
   "metadata": {},
   "outputs": [],
   "source": [
    "train['Item_ID'].value_counts()"
   ]
  },
  {
   "cell_type": "code",
   "execution_count": null,
   "id": "e5b49726-43e3-4be4-a1b3-c372b00c206d",
   "metadata": {},
   "outputs": [],
   "source": [
    "train['Item_ID']= train['Item_ID'].apply(lambda x: x[:2])"
   ]
  },
  {
   "cell_type": "code",
   "execution_count": null,
   "id": "ea77a88b-785d-421e-bd81-aacd5ba56583",
   "metadata": {},
   "outputs": [],
   "source": [
    "train['Item_ID'].value_counts()"
   ]
  },
  {
   "cell_type": "code",
   "execution_count": null,
   "id": "1c95695b-08a5-49e2-83fb-bb49901c48e9",
   "metadata": {},
   "outputs": [],
   "source": [
    "train['Store_Start_Year'].value_counts()"
   ]
  },
  {
   "cell_type": "code",
   "execution_count": null,
   "id": "dfef2050-6532-40d6-9947-710938d65bf6",
   "metadata": {},
   "outputs": [],
   "source": [
    "import datetime as dt"
   ]
  },
  {
   "cell_type": "code",
   "execution_count": null,
   "id": "32d2b6f5-a8eb-4c87-94ca-a8fc5cea9037",
   "metadata": {},
   "outputs": [],
   "source": [
    "current_year = dt.datetime.today().year"
   ]
  },
  {
   "cell_type": "code",
   "execution_count": null,
   "id": "28684d49-1aa2-4a4a-a322-2dcbd32edfd6",
   "metadata": {},
   "outputs": [],
   "source": [
    "current_year"
   ]
  },
  {
   "cell_type": "code",
   "execution_count": null,
   "id": "b12d1671-012b-4e86-a2a9-3d54ae937e43",
   "metadata": {},
   "outputs": [],
   "source": [
    "train['Store_age']=current_year - train['Store_Start_Year']"
   ]
  },
  {
   "cell_type": "code",
   "execution_count": null,
   "id": "d5399eaa-0aae-42c2-b492-3e9ceda08cef",
   "metadata": {},
   "outputs": [],
   "source": [
    "train['Store_age'].head()"
   ]
  },
  {
   "cell_type": "code",
   "execution_count": null,
   "id": "fa1a2654-e910-4946-9709-e7036f017076",
   "metadata": {},
   "outputs": [],
   "source": [
    "train.head(1)"
   ]
  },
  {
   "cell_type": "code",
   "execution_count": null,
   "id": "9375e803-8da3-473f-8dd5-3f461441ad59",
   "metadata": {},
   "outputs": [],
   "source": [
    "train=train.drop(['Store_Start_Year'],axis=1)"
   ]
  },
  {
   "cell_type": "code",
   "execution_count": null,
   "id": "f42f9b66-6ac2-40ae-8bca-0d2c9315684c",
   "metadata": {},
   "outputs": [],
   "source": [
    "train.head(1)"
   ]
  },
  {
   "cell_type": "code",
   "execution_count": null,
   "id": "9a76538f-ad15-40f8-930f-9c81c4e8cb3f",
   "metadata": {},
   "outputs": [],
   "source": [
    "from sklearn.preprocessing import OrdinalEncoder\n",
    "train_encoded = train.copy()\n",
    "Cat_cols = train.select_dtypes(include =['object']).columns\n",
    "for col in Cat_cols: \n",
    "    oe = OrdinalEncoder()\n",
    "    train_encoded[col] = oe.fit_transform(train_encoded[[col]])\n",
    "    print(oe.categories_)\n"
   ]
  },
  {
   "cell_type": "code",
   "execution_count": null,
   "id": "f7fb4f30-af4f-418f-8eaa-fcadb511e1c2",
   "metadata": {},
   "outputs": [],
   "source": [
    "train_encoded.head()"
   ]
  },
  {
   "cell_type": "code",
   "execution_count": null,
   "id": "fa22f16e-acd2-47ea-a7bd-7dbe8e819f39",
   "metadata": {},
   "outputs": [],
   "source": [
    "X = train_encoded.drop('Item_Store_Returns', axis = 1)\n",
    "y = train_encoded['Item_Store_Returns']"
   ]
  },
  {
   "cell_type": "code",
   "execution_count": null,
   "id": "f34f8fce-1d28-4a01-bf89-dce1616b511f",
   "metadata": {},
   "outputs": [],
   "source": [
    "X.head()"
   ]
  },
  {
   "cell_type": "code",
   "execution_count": null,
   "id": "97fd9282-7ef9-41b6-b5fd-9490bd2bb3cd",
   "metadata": {},
   "outputs": [],
   "source": [
    "y.head()"
   ]
  },
  {
   "cell_type": "code",
   "execution_count": null,
   "id": "a991dc5b-01cf-4ca5-87e5-af9557ba77fa",
   "metadata": {},
   "outputs": [],
   "source": [
    "from sklearn.model_selection import train_test_split\n",
    "from sklearn.datasets import make_regression\n",
    "from sklearn.model_selection import cross_val_score\n",
    "from xgboost import XGBRegressor\n",
    "from sklearn.metrics import mean_squared_error\n",
    "import numpy as np"
   ]
  },
  {
   "cell_type": "code",
   "execution_count": null,
   "id": "c3feab5a-cbbc-45e4-b197-948542a7b5e5",
   "metadata": {},
   "outputs": [],
   "source": [
    "xg = XGBRegressor(n_samples=100,random_state =42)\n",
    "scores = cross_val_score(xg, X,y, cv =5, scoring =\"r2\")\n",
    "print(scores.mean())"
   ]
  },
  {
   "cell_type": "code",
   "execution_count": null,
   "id": "e77fc2c8-272f-4faf-aa37-efd6b9f83bce",
   "metadata": {},
   "outputs": [],
   "source": [
    "from sklearn.ensemble import RandomForestRegressor\n",
    "rf = RandomForestRegressor(n_estimators=100,random_state =42)\n",
    "scores = cross_val_score(rf, X,y, cv =5, scoring =\"r2\")\n",
    "print(scores.mean())"
   ]
  },
  {
   "cell_type": "code",
   "execution_count": null,
   "id": "3c6ee202-b759-481f-ab33-1b9d9570529e",
   "metadata": {},
   "outputs": [],
   "source": [
    "from lightgbm import LGBMRegressor, LGBMClassifier, Booster\n",
    "init_func = LGBMRegressor"
   ]
  },
  {
   "cell_type": "code",
   "execution_count": null,
   "id": "fc215685-a23a-466b-92dd-58b13e6e58d7",
   "metadata": {},
   "outputs": [],
   "source": [
    "import lightgbm as lgb\n",
    "from sklearn.model_selection import train_test_split\n",
    "from sklearn.metrics import mean_squared_error\n",
    "lg = LGBMRegressor(n_estimators=100,random_state =42)\n",
    "scores = cross_val_score(lg, X,y, cv =5, scoring =\"r2\")\n",
    "print(scores.mean())"
   ]
  },
  {
   "cell_type": "code",
   "execution_count": null,
   "id": "cfb57c33-46ce-4b7a-9126-9b1f13ce2ee2",
   "metadata": {},
   "outputs": [],
   "source": [
    "rf = RandomForestRegressor(n_estimators=100,random_state =42)\n",
    "rf1 = rf.fit(X,y)\n",
    "pd.DataFrame({\n",
    "    'Feature':X.columns,\n",
    "    'RFR_importance': rf1.feature_importances_\n",
    "}).sort_values(by = 'RFR_importance',ascending = False)"
   ]
  },
  {
   "cell_type": "code",
   "execution_count": null,
   "id": "5891c29a-b023-4d96-8f85-7f54800d4ff0",
   "metadata": {},
   "outputs": [],
   "source": [
    "from sklearn.ensemble import RandomForestRegressor\n",
    "rf_data = RandomForestRegressor()\n",
    "rf_data.fit(train_encoded,y)"
   ]
  },
  {
   "cell_type": "code",
   "execution_count": null,
   "id": "55f8b019-a5a8-4fa4-bcd6-2ef687140403",
   "metadata": {},
   "outputs": [],
   "source": [
    "xg = XGBRegressor(n_samples=100,random_state =42)\n",
    "xg1 = xg.fit(X,y)\n",
    "pd.DataFrame({\n",
    "    'Feature':X.columns,\n",
    "    'XGBR_importance': xg1.feature_importances_\n",
    "}).sort_values(by = 'XGBR_importance',ascending = False)"
   ]
  },
  {
   "cell_type": "code",
   "execution_count": null,
   "id": "d47a9f37-abe0-4084-bfeb-639121917e9f",
   "metadata": {},
   "outputs": [],
   "source": [
    "xg = XGBRegressor(n_samples=100,random_state =42)\n",
    "scores = cross_val_score(xg1,X.drop(['Item_Store_ID','Item_Type','Store_age','Item_Sugar_Content','Store_ID','Item_ID'],axis =1),y,cv=5,scoring =\"r2\")\n",
    "print(scores.mean())"
   ]
  },
  {
   "cell_type": "code",
   "execution_count": null,
   "id": "5e23e88c-b77e-4ca3-8b6e-4e2ef235337f",
   "metadata": {},
   "outputs": [],
   "source": [
    "from sklearn.ensemble import RandomForestRegressor\n",
    "rf = RandomForestRegressor(n_estimators=100,random_state =42)\n",
    "scores = cross_val_score(rf, X,y, cv =5, scoring =\"r2\")\n",
    "print(scores.mean())"
   ]
  },
  {
   "cell_type": "code",
   "execution_count": null,
   "id": "62313139-dcde-4f91-8330-5affa67ef1ac",
   "metadata": {},
   "outputs": [],
   "source": [
    "X_train, X_val, y_train, y_val = train_test_split(X, y, test_size=0.2, random_state=42)"
   ]
  },
  {
   "cell_type": "code",
   "execution_count": null,
   "id": "64f620ce-6995-449e-a381-fa6829868068",
   "metadata": {},
   "outputs": [],
   "source": [
    "model = RandomForestRegressor(random_state=42)\n",
    "model.fit(X_train, y_train)"
   ]
  },
  {
   "cell_type": "code",
   "execution_count": null,
   "id": "e7f8510d-cd2c-46a9-b5b5-b5e5dbfbc43c",
   "metadata": {},
   "outputs": [],
   "source": [
    "y_pred = model.predict(X_val)\n",
    "rmse = np.sqrt(mean_squared_error(y_val, y_pred))\n",
    "\n",
    "rmse"
   ]
  },
  {
   "cell_type": "code",
   "execution_count": null,
   "id": "b4ba6430-f6ff-465a-857e-885286df0fa9",
   "metadata": {},
   "outputs": [],
   "source": [
    "# Calculate RMSE\n",
    "rmse = np.sqrt(mean_squared_error(y_val, y_pred))\n",
    "\n",
    "print(\"Root Mean Square Error:\", rmse)"
   ]
  },
  {
   "cell_type": "code",
   "execution_count": null,
   "id": "13ab74ea-e90a-4021-840b-33467a6634fc",
   "metadata": {},
   "outputs": [],
   "source": [
    "SampleSubmission.head()"
   ]
  },
  {
   "cell_type": "code",
   "execution_count": null,
   "id": "d6ba6ece-24d4-49d2-8848-ad026d3c0f67",
   "metadata": {},
   "outputs": [],
   "source": [
    "X_test = test.drop(['Item_Store_ID'], axis=1)"
   ]
  },
  {
   "cell_type": "code",
   "execution_count": null,
   "id": "fb77c563-6eb4-4ea0-86c7-5b80c9788276",
   "metadata": {},
   "outputs": [],
   "source": [
    "test_predictions = model.predict(X)"
   ]
  },
  {
   "cell_type": "code",
   "execution_count": null,
   "id": "05c1a97c-c458-499f-9602-1edbb22cb1b0",
   "metadata": {},
   "outputs": [],
   "source": [
    "submission = train[['Item_Store_ID']].copy()\n",
    "submission['Item_Store_Returns'] = test_predictions\n"
   ]
  },
  {
   "cell_type": "code",
   "execution_count": null,
   "id": "ce34ab8c-d01a-4aab-813d-068fcc3de892",
   "metadata": {},
   "outputs": [],
   "source": [
    "submission.head()"
   ]
  },
  {
   "cell_type": "code",
   "execution_count": null,
   "id": "38232362-d95c-4353-985f-7a59a88ff4d9",
   "metadata": {},
   "outputs": [],
   "source": [
    "submission.to_csv(\"Storereturns1.csv\", index=False)"
   ]
  }
 ],
 "metadata": {
  "kernelspec": {
   "display_name": "Python 3 (ipykernel)",
   "language": "python",
   "name": "python3"
  },
  "language_info": {
   "codemirror_mode": {
    "name": "ipython",
    "version": 3
   },
   "file_extension": ".py",
   "mimetype": "text/x-python",
   "name": "python",
   "nbconvert_exporter": "python",
   "pygments_lexer": "ipython3",
   "version": "3.12.7"
  }
 },
 "nbformat": 4,
 "nbformat_minor": 5
}
